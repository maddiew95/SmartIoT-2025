{
 "cells": [
  {
   "cell_type": "code",
   "execution_count": 1,
   "id": "7aca19d5",
   "metadata": {
    "execution": {
     "iopub.execute_input": "2025-07-13T06:33:51.256765Z",
     "iopub.status.busy": "2025-07-13T06:33:51.255973Z",
     "iopub.status.idle": "2025-07-13T06:33:57.488938Z",
     "shell.execute_reply": "2025-07-13T06:33:57.488038Z"
    }
   },
   "outputs": [
    {
     "name": "stdout",
     "output_type": "stream",
     "text": [
      "NVIDIA A30\n",
      "(872, 4500, 14) (872,)\n"
     ]
    }
   ],
   "source": [
    "import torch\n",
    "import sys\n",
    "sys.path.append(\"../\")\n",
    "from ad_utils import *\n",
    "import numpy as np\n",
    "from sklearn.model_selection import train_test_split\n",
    "from sklearn.preprocessing import StandardScaler\n",
    "\n",
    "cuda0 = torch.device(\"cuda:0\")\n",
    "cuda1 = torch.device(\"cuda:1\")\n",
    "device = cuda1\n",
    "print(torch.cuda.get_device_name(device) if torch.cuda.is_available() else \"No GPU available\")\n",
    "\n",
    "data = np.load(\"../../hvcm/RFQ.npy\", allow_pickle=True)\n",
    "label = np.load(\"../../hvcm/RFQ_labels.npy\", allow_pickle=True)\n",
    "label = label[:, 1]  # Assuming the second column is the label\n",
    "label = (label == \"Fault\").astype(int)  # Convert to binary labels\n",
    "print(data.shape, label.shape)\n",
    "\n",
    "scaler = StandardScaler()\n",
    "data = scaler.fit_transform(data.reshape(-1, data.shape[-1])).reshape(data.shape)\n",
    "\n",
    "normal_data = data[label == 0]\n",
    "faulty_data = data[label == 1]\n",
    "\n",
    "normal_label = label[label == 0]\n",
    "faulty_label = label[label == 1]\n",
    "\n",
    "X_train_normal, X_test_normal, y_train_normal, y_test_normal = train_test_split(normal_data, normal_label, test_size=0.2, random_state=42, shuffle=True)\n",
    "X_train_faulty, X_test_faulty, y_train_faulty, y_test_faulty = train_test_split(faulty_data, faulty_label, test_size=0.2, random_state=42, shuffle=True)\n",
    "labels = np.concatenate((y_test_normal, y_test_faulty))"
   ]
  },
  {
   "cell_type": "markdown",
   "id": "14127475",
   "metadata": {},
   "source": [
    "# Vanilla GAN"
   ]
  },
  {
   "cell_type": "code",
   "execution_count": 2,
   "id": "71aec1f4",
   "metadata": {
    "execution": {
     "iopub.execute_input": "2025-07-13T06:33:57.496611Z",
     "iopub.status.busy": "2025-07-13T06:33:57.496117Z",
     "iopub.status.idle": "2025-07-13T06:33:57.542902Z",
     "shell.execute_reply": "2025-07-13T06:33:57.541886Z"
    }
   },
   "outputs": [],
   "source": [
    "# Optimized Vanilla GAN Generator for Multivariate Time Series\n",
    "class VanillaGANGenerator(nn.Module):\n",
    "    def __init__(self, latent_dim=100, n_features=14, seq_len=4500):\n",
    "        super(VanillaGANGenerator, self).__init__()\n",
    "        self.latent_dim = latent_dim\n",
    "        self.n_features = n_features\n",
    "        self.seq_len = seq_len\n",
    "        \n",
    "        # Calculate initial size for efficient upsampling\n",
    "        self.init_size = seq_len // 32  # More efficient starting point\n",
    "        \n",
    "        # Initial projection with better capacity\n",
    "        self.fc = nn.Sequential(\n",
    "            nn.Linear(latent_dim, 256 * self.init_size),\n",
    "            nn.BatchNorm1d(256 * self.init_size),\n",
    "            nn.ReLU(inplace=True)\n",
    "        )\n",
    "        \n",
    "        # Multi-scale upsampling blocks optimized for time series\n",
    "        self.conv_blocks = nn.Sequential(\n",
    "            # 256 -> 128 channels\n",
    "            nn.ConvTranspose1d(256, 128, kernel_size=5, stride=2, padding=2),\n",
    "            nn.BatchNorm1d(128),\n",
    "            nn.ReLU(inplace=True),\n",
    "            \n",
    "            # 128 -> 64 channels  \n",
    "            nn.ConvTranspose1d(128, 64, kernel_size=5, stride=2, padding=2),\n",
    "            nn.BatchNorm1d(64),\n",
    "            nn.ReLU(inplace=True),\n",
    "            \n",
    "            # 64 -> 32 channels\n",
    "            nn.ConvTranspose1d(64, 32, kernel_size=5, stride=2, padding=2),\n",
    "            nn.BatchNorm1d(32),\n",
    "            nn.ReLU(inplace=True),\n",
    "            \n",
    "            # 32 -> 16 channels\n",
    "            nn.ConvTranspose1d(32, 16, kernel_size=5, stride=2, padding=2),\n",
    "            nn.BatchNorm1d(16),\n",
    "            nn.ReLU(inplace=True),\n",
    "            \n",
    "            # 16 -> n_features channels\n",
    "            nn.ConvTranspose1d(16, n_features, kernel_size=5, stride=2, padding=2),\n",
    "            nn.Tanh()\n",
    "        )\n",
    "        \n",
    "    def forward(self, z):\n",
    "        # Project latent to initial conv size\n",
    "        out = self.fc(z)\n",
    "        out = out.view(out.shape[0], 256, self.init_size)\n",
    "        \n",
    "        # Progressive upsampling\n",
    "        out = self.conv_blocks(out)\n",
    "        \n",
    "        # Ensure exact sequence length\n",
    "        if out.shape[2] != self.seq_len:\n",
    "            out = nn.functional.interpolate(out, size=self.seq_len, mode='linear', align_corners=False)\n",
    "        \n",
    "        # Return as (batch_size, seq_len, n_features)\n",
    "        return out.transpose(1, 2)\n",
    "\n",
    "# Optimized Vanilla GAN Discriminator for Multivariate Time Series\n",
    "class VanillaGANDiscriminator(nn.Module):\n",
    "    def __init__(self, n_features=14, seq_len=4500):\n",
    "        super(VanillaGANDiscriminator, self).__init__()\n",
    "        \n",
    "        # Multi-scale feature extraction for time series\n",
    "        self.conv_blocks = nn.Sequential(\n",
    "            # n_features -> 32 channels\n",
    "            nn.Conv1d(n_features, 32, kernel_size=5, stride=2, padding=2),\n",
    "            nn.LeakyReLU(0.2, inplace=True),\n",
    "            nn.Dropout(0.25),\n",
    "            \n",
    "            # 32 -> 64 channels\n",
    "            nn.Conv1d(32, 64, kernel_size=5, stride=2, padding=2),\n",
    "            nn.BatchNorm1d(64),\n",
    "            nn.LeakyReLU(0.2, inplace=True),\n",
    "            nn.Dropout(0.25),\n",
    "            \n",
    "            # 64 -> 128 channels\n",
    "            nn.Conv1d(64, 128, kernel_size=5, stride=2, padding=2),\n",
    "            nn.BatchNorm1d(128),\n",
    "            nn.LeakyReLU(0.2, inplace=True),\n",
    "            nn.Dropout(0.25),\n",
    "            \n",
    "            # 128 -> 256 channels\n",
    "            nn.Conv1d(128, 256, kernel_size=5, stride=2, padding=2),\n",
    "            nn.BatchNorm1d(256),\n",
    "            nn.LeakyReLU(0.2, inplace=True),\n",
    "            nn.Dropout(0.25),\n",
    "            \n",
    "            # 256 -> 512 channels\n",
    "            nn.Conv1d(256, 512, kernel_size=5, stride=2, padding=2),\n",
    "            nn.BatchNorm1d(512),\n",
    "            nn.LeakyReLU(0.2, inplace=True),\n",
    "        )\n",
    "        \n",
    "        # Calculate output size after convolutions\n",
    "        self.conv_output_size = self._get_conv_output_size(seq_len)\n",
    "        \n",
    "        # Enhanced classifier for better discrimination\n",
    "        self.classifier = nn.Sequential(\n",
    "            nn.Linear(512 * self.conv_output_size, 256),\n",
    "            nn.LeakyReLU(0.2, inplace=True),\n",
    "            nn.Dropout(0.5),\n",
    "            nn.Linear(256, 64),\n",
    "            nn.LeakyReLU(0.2, inplace=True),\n",
    "            nn.Dropout(0.5),\n",
    "            nn.Linear(64, 1),\n",
    "            nn.Sigmoid()\n",
    "        )\n",
    "        \n",
    "    def _get_conv_output_size(self, seq_len):\n",
    "        size = seq_len\n",
    "        for _ in range(5):  # 5 conv layers\n",
    "            size = (size + 2*2 - 5) // 2 + 1\n",
    "        return size\n",
    "    \n",
    "    def forward(self, x):\n",
    "        # Input: (batch_size, seq_len, n_features)\n",
    "        x = x.transpose(1, 2)  # Convert to (batch_size, n_features, seq_len)\n",
    "        \n",
    "        # Apply conv blocks\n",
    "        features = self.conv_blocks(x)\n",
    "        \n",
    "        # Flatten and classify\n",
    "        features = features.view(features.size(0), -1)\n",
    "        output = self.classifier(features)\n",
    "        \n",
    "        return output\n",
    "\n",
    "# Enhanced Vanilla GAN training function for time series - BALANCED VERSION\n",
    "def train_vanilla_gan(normal_data, device, n_epochs=50, batch_size=16, lr_g=1e-4, lr_d=2e-4):\n",
    "    \"\"\"\n",
    "    Train Vanilla GAN optimized for multivariate time series with balanced training\n",
    "    \"\"\"\n",
    "    print(f\"Starting Balanced Vanilla GAN Training for Time Series\")\n",
    "    print(f\"Data shape: {normal_data.shape}\")\n",
    "    print(f\"Raw data range: [{normal_data.min():.4f}, {normal_data.max():.4f}]\")\n",
    "    \n",
    "    # Improved data preprocessing for time series\n",
    "    data_mean = np.mean(normal_data, axis=(0, 1), keepdims=True)\n",
    "    data_std = np.std(normal_data, axis=(0, 1), keepdims=True) + 1e-8\n",
    "    \n",
    "    # Normalize with better range preservation\n",
    "    normalized_data = (normal_data - data_mean) / data_std\n",
    "    normalized_data = np.clip(normalized_data, -3, 3)  # Clip outliers\n",
    "    normalized_data = normalized_data / 3.0  # Scale to [-1, 1] approximately\n",
    "    \n",
    "    print(f\"Normalized data range: [{normalized_data.min():.4f}, {normalized_data.max():.4f}]\")\n",
    "    \n",
    "    # Model parameters\n",
    "    latent_dim = 128  # Increased for better representation\n",
    "    n_features = normalized_data.shape[-1]\n",
    "    seq_len = normalized_data.shape[1]\n",
    "    \n",
    "    # Initialize models\n",
    "    generator = VanillaGANGenerator(latent_dim, n_features, seq_len).to(device)\n",
    "    discriminator = VanillaGANDiscriminator(n_features, seq_len).to(device)\n",
    "    \n",
    "    # Improved weight initialization for time series\n",
    "    def init_weights(m):\n",
    "        if isinstance(m, (nn.Conv1d, nn.ConvTranspose1d)):\n",
    "            nn.init.normal_(m.weight, 0.0, 0.02)\n",
    "            if hasattr(m, 'bias') and m.bias is not None:\n",
    "                nn.init.constant_(m.bias, 0)\n",
    "        elif isinstance(m, nn.Linear):\n",
    "            nn.init.xavier_normal_(m.weight)\n",
    "            if hasattr(m, 'bias') and m.bias is not None:\n",
    "                nn.init.constant_(m.bias, 0)\n",
    "        elif isinstance(m, nn.BatchNorm1d):\n",
    "            nn.init.normal_(m.weight, 1.0, 0.02)\n",
    "            nn.init.constant_(m.bias, 0)\n",
    "    \n",
    "    generator.apply(init_weights)\n",
    "    discriminator.apply(init_weights)\n",
    "    \n",
    "    # BALANCED optimizers - Lower discriminator LR, higher generator LR\n",
    "    optimizer_G = optim.Adam(generator.parameters(), lr=lr_g, betas=(0.5, 0.999))\n",
    "    optimizer_D = optim.Adam(discriminator.parameters(), lr=lr_d, betas=(0.5, 0.999))\n",
    "    \n",
    "    # Loss function\n",
    "    criterion = nn.BCELoss()\n",
    "    \n",
    "    # Create dataloader with smaller batch size for memory efficiency\n",
    "    dataset = TensorDataset(torch.tensor(normalized_data, dtype=torch.float32))\n",
    "    dataloader = DataLoader(dataset, batch_size=batch_size, shuffle=True, drop_last=True)\n",
    "    \n",
    "    print(f\"Training Parameters:\")\n",
    "    print(f\"  Epochs: {n_epochs}, Batch Size: {batch_size}\")\n",
    "    print(f\"  Generator LR: {lr_g}, Discriminator LR: {lr_d}\")\n",
    "    print(f\"  Latent Dimension: {latent_dim}\")\n",
    "    \n",
    "    # Training history\n",
    "    d_losses = []\n",
    "    g_losses = []\n",
    "    d_accuracies = []\n",
    "    \n",
    "    # Balance tracking\n",
    "    d_train_freq = 1  # How often to train discriminator\n",
    "    g_train_freq = 1  # How often to train generator\n",
    "    \n",
    "    print(\"\\nStarting Balanced Training...\")\n",
    "    print(\"=\" * 60)\n",
    "    \n",
    "    for epoch in range(n_epochs):\n",
    "        epoch_d_losses = []\n",
    "        epoch_g_losses = []\n",
    "        epoch_d_accuracies = []\n",
    "        \n",
    "        for i, (real_samples,) in enumerate(dataloader):\n",
    "            real_samples = real_samples.to(device)\n",
    "            batch_size_actual = real_samples.size(0)\n",
    "            \n",
    "            # ADAPTIVE LABEL SMOOTHING - More aggressive when discriminator is too strong\n",
    "            if len(d_accuracies) > 0 and d_accuracies[-1] > 0.8:\n",
    "                # Strong label smoothing when D is too good\n",
    "                real_labels = torch.ones(batch_size_actual, 1, device=device) * 0.7\n",
    "                fake_labels = torch.zeros(batch_size_actual, 1, device=device) + 0.3\n",
    "            else:\n",
    "                # Normal label smoothing\n",
    "                real_labels = torch.ones(batch_size_actual, 1, device=device) * 0.9\n",
    "                fake_labels = torch.zeros(batch_size_actual, 1, device=device) + 0.1\n",
    "            \n",
    "            # ========================\n",
    "            # ADAPTIVE DISCRIMINATOR TRAINING\n",
    "            # ========================\n",
    "            train_discriminator = True\n",
    "            \n",
    "            # Skip discriminator training if it's too strong\n",
    "            if len(d_accuracies) > 5:\n",
    "                recent_acc = np.mean(d_accuracies[-5:])\n",
    "                if recent_acc > 0.85:\n",
    "                    train_discriminator = (i % 3 == 0)  # Train D every 3rd iteration\n",
    "                elif recent_acc > 0.75:\n",
    "                    train_discriminator = (i % 2 == 0)  # Train D every 2nd iteration\n",
    "            \n",
    "            if train_discriminator:\n",
    "                optimizer_D.zero_grad()\n",
    "                \n",
    "                # Real samples\n",
    "                real_output = discriminator(real_samples)\n",
    "                d_loss_real = criterion(real_output, real_labels)\n",
    "                \n",
    "                # Generate fake samples\n",
    "                z = torch.randn(batch_size_actual, latent_dim, device=device)\n",
    "                fake_samples = generator(z).detach()\n",
    "                fake_output = discriminator(fake_samples)\n",
    "                d_loss_fake = criterion(fake_output, fake_labels)\n",
    "                \n",
    "                # Total discriminator loss\n",
    "                d_loss = d_loss_real + d_loss_fake\n",
    "                d_loss.backward()\n",
    "                optimizer_D.step()\n",
    "                \n",
    "                # Calculate discriminator accuracy\n",
    "                real_pred = (real_output > 0.5).float()\n",
    "                fake_pred = (fake_output > 0.5).float()\n",
    "                d_accuracy = ((real_pred == torch.ones_like(real_pred)).sum() + \n",
    "                             (fake_pred == torch.zeros_like(fake_pred)).sum()).float() / (2 * batch_size_actual)\n",
    "                \n",
    "                epoch_d_losses.append(d_loss.item())\n",
    "                epoch_d_accuracies.append(d_accuracy.item())\n",
    "            \n",
    "            # ========================\n",
    "            # ENHANCED GENERATOR TRAINING\n",
    "            # ========================\n",
    "            # Train generator more frequently when discriminator is strong\n",
    "            generator_iterations = 1\n",
    "            if len(d_accuracies) > 0 and d_accuracies[-1] > 0.8:\n",
    "                generator_iterations = 2  # Train G twice when D is too strong\n",
    "            \n",
    "            for _ in range(generator_iterations):\n",
    "                optimizer_G.zero_grad()\n",
    "                \n",
    "                # Generate fake samples\n",
    "                z = torch.randn(batch_size_actual, latent_dim, device=device)\n",
    "                fake_samples = generator(z)\n",
    "                fake_output = discriminator(fake_samples)\n",
    "                \n",
    "                # Generator loss\n",
    "                g_loss = criterion(fake_output, torch.ones_like(fake_output))\n",
    "                \n",
    "                g_loss.backward()\n",
    "                optimizer_G.step()\n",
    "                \n",
    "                epoch_g_losses.append(g_loss.item())\n",
    "        \n",
    "        # Calculate epoch averages\n",
    "        avg_d_loss = np.mean(epoch_d_losses) if epoch_d_losses else 0\n",
    "        avg_g_loss = np.mean(epoch_g_losses) if epoch_g_losses else 0\n",
    "        avg_d_accuracy = np.mean(epoch_d_accuracies) if epoch_d_accuracies else 0.5\n",
    "        \n",
    "        d_losses.append(avg_d_loss)\n",
    "        g_losses.append(avg_g_loss)\n",
    "        d_accuracies.append(avg_d_accuracy)\n",
    "        \n",
    "        # ADAPTIVE LEARNING RATE ADJUSTMENT\n",
    "        if epoch > 10:\n",
    "            recent_acc = np.mean(d_accuracies[-5:])\n",
    "            if recent_acc > 0.85:\n",
    "                # Discriminator too strong - reduce its LR, increase generator LR\n",
    "                for param_group in optimizer_D.param_groups:\n",
    "                    param_group['lr'] *= 0.98\n",
    "                for param_group in optimizer_G.param_groups:\n",
    "                    param_group['lr'] *= 1.02\n",
    "            elif recent_acc < 0.3:\n",
    "                # Generator too strong - increase discriminator LR, reduce generator LR  \n",
    "                for param_group in optimizer_D.param_groups:\n",
    "                    param_group['lr'] *= 1.02\n",
    "                for param_group in optimizer_G.param_groups:\n",
    "                    param_group['lr'] *= 0.98\n",
    "        \n",
    "        # Print progress\n",
    "        if epoch % 10 == 0 or epoch == n_epochs - 1:\n",
    "            current_lr_g = optimizer_G.param_groups[0]['lr']\n",
    "            current_lr_d = optimizer_D.param_groups[0]['lr']\n",
    "            \n",
    "            print(f\"Epoch [{epoch+1:3d}/{n_epochs}] | \"\n",
    "                  f\"D Loss: {avg_d_loss:8.4f} | \"\n",
    "                  f\"G Loss: {avg_g_loss:8.4f} | \"\n",
    "                  f\"D Acc: {avg_d_accuracy:6.3f} | \"\n",
    "                  f\"LR_G: {current_lr_g:.5f} | LR_D: {current_lr_d:.5f}\")\n",
    "            \n",
    "            # Check training stability\n",
    "            if avg_d_accuracy < 0.3:\n",
    "                print(\"         ⚠️  Generator overpowering discriminator\")\n",
    "            elif avg_d_accuracy > 0.8:\n",
    "                print(\"         ⚠️  Discriminator overpowering generator\") \n",
    "            elif 0.4 <= avg_d_accuracy <= 0.7:\n",
    "                print(\"         ✅ Training appears balanced\")\n",
    "            else:\n",
    "                print(\"         🔄 Adjusting balance...\")\n",
    "    \n",
    "    print(\"=\" * 60)\n",
    "    print(\"Training completed!\")\n",
    "    \n",
    "    # Store normalization parameters\n",
    "    data_stats = (data_mean, data_std)\n",
    "    \n",
    "    return generator, discriminator, d_losses, g_losses, d_accuracies, data_stats\n",
    "\n",
    "\n",
    "# Enhanced sample generation for time series\n",
    "def generate_vanilla_samples(generator, num_samples, latent_dim, device, data_stats, batch_size=16):\n",
    "    \"\"\"\n",
    "    Generate samples and denormalize them properly for time series\n",
    "    \"\"\"\n",
    "    generator.eval()\n",
    "    data_mean, data_std = data_stats\n",
    "    \n",
    "    generated_batches = []\n",
    "    \n",
    "    with torch.no_grad():\n",
    "        for start in range(0, num_samples, batch_size):\n",
    "            end = min(start + batch_size, num_samples)\n",
    "            current_batch_size = end - start\n",
    "            \n",
    "            # Generate noise\n",
    "            z = torch.randn(current_batch_size, latent_dim, device=device)\n",
    "            \n",
    "            # Generate samples\n",
    "            batch_generated = generator(z)\n",
    "            \n",
    "            # Denormalize properly\n",
    "            batch_generated = batch_generated.cpu().numpy()\n",
    "            batch_generated = batch_generated * 3.0  # Reverse scaling\n",
    "            batch_generated = batch_generated * data_std + data_mean\n",
    "            \n",
    "            generated_batches.append(batch_generated)\n",
    "    \n",
    "    return np.concatenate(generated_batches, axis=0)\n",
    "\n",
    "# Visualization remains the same\n",
    "def plot_vanilla_training_curves(d_losses, g_losses, d_accuracies):\n",
    "    \"\"\"\n",
    "    Plot training curves for Vanilla GAN\n",
    "    \"\"\"\n",
    "    fig, axes = plt.subplots(1, 3, figsize=(18, 5))\n",
    "    \n",
    "    # Discriminator loss\n",
    "    axes[0].plot(d_losses, label='Discriminator Loss', color='blue', alpha=0.7)\n",
    "    axes[0].set_title('Discriminator Loss Over Time')\n",
    "    axes[0].set_xlabel('Epoch')\n",
    "    axes[0].set_ylabel('Loss')\n",
    "    axes[0].legend()\n",
    "    axes[0].grid(True, alpha=0.3)\n",
    "    \n",
    "    # Generator loss\n",
    "    axes[1].plot(g_losses, label='Generator Loss', color='red', alpha=0.7)\n",
    "    axes[1].set_title('Generator Loss Over Time')\n",
    "    axes[1].set_xlabel('Epoch')\n",
    "    axes[1].set_ylabel('Loss')\n",
    "    axes[1].legend()\n",
    "    axes[1].grid(True, alpha=0.3)\n",
    "    \n",
    "    # Discriminator accuracy\n",
    "    axes[2].plot(d_accuracies, label='Discriminator Accuracy', color='green', alpha=0.7)\n",
    "    axes[2].axhline(y=0.5, color='black', linestyle='--', alpha=0.5, label='Random Guess')\n",
    "    axes[2].set_title('Discriminator Accuracy Over Time')\n",
    "    axes[2].set_xlabel('Epoch')\n",
    "    axes[2].set_ylabel('Accuracy')\n",
    "    axes[2].set_ylim(0, 1)\n",
    "    axes[2].legend()\n",
    "    axes[2].grid(True, alpha=0.3)\n",
    "    \n",
    "    plt.tight_layout()\n",
    "    plt.show()"
   ]
  },
  {
   "cell_type": "markdown",
   "id": "5787bd0a",
   "metadata": {},
   "source": [
    "# Train, and generate"
   ]
  },
  {
   "cell_type": "code",
   "execution_count": 3,
   "id": "518ba0d9",
   "metadata": {
    "execution": {
     "iopub.execute_input": "2025-07-13T06:33:57.548554Z",
     "iopub.status.busy": "2025-07-13T06:33:57.548183Z",
     "iopub.status.idle": "2025-07-13T06:35:31.343708Z",
     "shell.execute_reply": "2025-07-13T06:35:31.342775Z"
    }
   },
   "outputs": [
    {
     "name": "stdout",
     "output_type": "stream",
     "text": [
      "Training Balanced Vanilla GAN...\n",
      "Starting Balanced Vanilla GAN Training for Time Series\n",
      "Data shape: (552, 4500, 14)\n",
      "Raw data range: [-5.7248, 7.6610]\n"
     ]
    },
    {
     "name": "stdout",
     "output_type": "stream",
     "text": [
      "Normalized data range: [-1.0000, 1.0000]\n"
     ]
    },
    {
     "name": "stdout",
     "output_type": "stream",
     "text": [
      "Training Parameters:\n",
      "  Epochs: 300, Batch Size: 64\n",
      "  Generator LR: 0.01, Discriminator LR: 1e-05\n",
      "  Latent Dimension: 128\n",
      "\n",
      "Starting Balanced Training...\n",
      "============================================================\n"
     ]
    },
    {
     "name": "stdout",
     "output_type": "stream",
     "text": [
      "Epoch [  1/300] | D Loss:   1.7231 | G Loss:   1.2995 | D Acc:  0.569 | LR_G: 0.01000 | LR_D: 0.00001\n",
      "         ✅ Training appears balanced\n"
     ]
    },
    {
     "name": "stdout",
     "output_type": "stream",
     "text": [
      "Epoch [ 11/300] | D Loss:   1.4187 | G Loss:   1.0684 | D Acc:  0.787 | LR_G: 0.01000 | LR_D: 0.00001\n",
      "         🔄 Adjusting balance...\n"
     ]
    },
    {
     "name": "stdout",
     "output_type": "stream",
     "text": [
      "Epoch [ 21/300] | D Loss:   1.2743 | G Loss:   1.0664 | D Acc:  0.693 | LR_G: 0.01000 | LR_D: 0.00001\n",
      "         ✅ Training appears balanced\n"
     ]
    },
    {
     "name": "stdout",
     "output_type": "stream",
     "text": [
      "Epoch [ 31/300] | D Loss:   1.1295 | G Loss:   1.2683 | D Acc:  0.795 | LR_G: 0.01000 | LR_D: 0.00001\n",
      "         🔄 Adjusting balance...\n"
     ]
    },
    {
     "name": "stdout",
     "output_type": "stream",
     "text": [
      "Epoch [ 41/300] | D Loss:   1.3547 | G Loss:   0.9924 | D Acc:  0.674 | LR_G: 0.01000 | LR_D: 0.00001\n",
      "         ✅ Training appears balanced\n"
     ]
    },
    {
     "name": "stdout",
     "output_type": "stream",
     "text": [
      "Epoch [ 51/300] | D Loss:   1.1775 | G Loss:   1.2279 | D Acc:  0.771 | LR_G: 0.01000 | LR_D: 0.00001\n",
      "         🔄 Adjusting balance...\n"
     ]
    },
    {
     "name": "stdout",
     "output_type": "stream",
     "text": [
      "Epoch [ 61/300] | D Loss:   1.1505 | G Loss:   1.2145 | D Acc:  0.797 | LR_G: 0.01000 | LR_D: 0.00001\n",
      "         🔄 Adjusting balance...\n"
     ]
    },
    {
     "name": "stdout",
     "output_type": "stream",
     "text": [
      "Epoch [ 71/300] | D Loss:   1.2921 | G Loss:   1.1228 | D Acc:  0.732 | LR_G: 0.01000 | LR_D: 0.00001\n",
      "         🔄 Adjusting balance...\n"
     ]
    },
    {
     "name": "stdout",
     "output_type": "stream",
     "text": [
      "Epoch [ 81/300] | D Loss:   1.2311 | G Loss:   1.2254 | D Acc:  0.752 | LR_G: 0.01000 | LR_D: 0.00001\n",
      "         🔄 Adjusting balance...\n"
     ]
    },
    {
     "name": "stdout",
     "output_type": "stream",
     "text": [
      "Epoch [ 91/300] | D Loss:   1.1851 | G Loss:   1.2208 | D Acc:  0.776 | LR_G: 0.01000 | LR_D: 0.00001\n",
      "         🔄 Adjusting balance...\n"
     ]
    },
    {
     "name": "stdout",
     "output_type": "stream",
     "text": [
      "Epoch [101/300] | D Loss:   1.2588 | G Loss:   1.1710 | D Acc:  0.732 | LR_G: 0.01000 | LR_D: 0.00001\n",
      "         🔄 Adjusting balance...\n"
     ]
    },
    {
     "name": "stdout",
     "output_type": "stream",
     "text": [
      "Epoch [111/300] | D Loss:   1.1701 | G Loss:   1.2670 | D Acc:  0.773 | LR_G: 0.01000 | LR_D: 0.00001\n",
      "         🔄 Adjusting balance...\n"
     ]
    },
    {
     "name": "stdout",
     "output_type": "stream",
     "text": [
      "Epoch [121/300] | D Loss:   1.1545 | G Loss:   1.2011 | D Acc:  0.770 | LR_G: 0.01000 | LR_D: 0.00001\n",
      "         🔄 Adjusting balance...\n"
     ]
    },
    {
     "name": "stdout",
     "output_type": "stream",
     "text": [
      "Epoch [131/300] | D Loss:   1.1397 | G Loss:   1.2306 | D Acc:  0.795 | LR_G: 0.01000 | LR_D: 0.00001\n",
      "         🔄 Adjusting balance...\n"
     ]
    },
    {
     "name": "stdout",
     "output_type": "stream",
     "text": [
      "Epoch [141/300] | D Loss:   1.1727 | G Loss:   1.1783 | D Acc:  0.766 | LR_G: 0.01000 | LR_D: 0.00001\n",
      "         🔄 Adjusting balance...\n"
     ]
    },
    {
     "name": "stdout",
     "output_type": "stream",
     "text": [
      "Epoch [151/300] | D Loss:   1.2106 | G Loss:   1.2561 | D Acc:  0.764 | LR_G: 0.01000 | LR_D: 0.00001\n",
      "         🔄 Adjusting balance...\n"
     ]
    },
    {
     "name": "stdout",
     "output_type": "stream",
     "text": [
      "Epoch [161/300] | D Loss:   1.1965 | G Loss:   1.1281 | D Acc:  0.756 | LR_G: 0.01000 | LR_D: 0.00001\n",
      "         🔄 Adjusting balance...\n"
     ]
    },
    {
     "name": "stdout",
     "output_type": "stream",
     "text": [
      "Epoch [171/300] | D Loss:   1.1946 | G Loss:   1.1473 | D Acc:  0.773 | LR_G: 0.01000 | LR_D: 0.00001\n",
      "         🔄 Adjusting balance...\n"
     ]
    },
    {
     "name": "stdout",
     "output_type": "stream",
     "text": [
      "Epoch [181/300] | D Loss:   1.5044 | G Loss:   1.1218 | D Acc:  0.779 | LR_G: 0.01000 | LR_D: 0.00001\n",
      "         🔄 Adjusting balance...\n"
     ]
    },
    {
     "name": "stdout",
     "output_type": "stream",
     "text": [
      "Epoch [191/300] | D Loss:   1.2215 | G Loss:   1.1133 | D Acc:  0.711 | LR_G: 0.01000 | LR_D: 0.00001\n",
      "         🔄 Adjusting balance...\n"
     ]
    },
    {
     "name": "stdout",
     "output_type": "stream",
     "text": [
      "Epoch [201/300] | D Loss:   1.5391 | G Loss:   1.1387 | D Acc:  0.756 | LR_G: 0.01000 | LR_D: 0.00001\n",
      "         🔄 Adjusting balance...\n"
     ]
    },
    {
     "name": "stdout",
     "output_type": "stream",
     "text": [
      "Epoch [211/300] | D Loss:   1.2231 | G Loss:   1.1374 | D Acc:  0.734 | LR_G: 0.01000 | LR_D: 0.00001\n",
      "         🔄 Adjusting balance...\n"
     ]
    },
    {
     "name": "stdout",
     "output_type": "stream",
     "text": [
      "Epoch [221/300] | D Loss:   1.1302 | G Loss:   1.2754 | D Acc:  0.777 | LR_G: 0.01000 | LR_D: 0.00001\n",
      "         🔄 Adjusting balance...\n"
     ]
    },
    {
     "name": "stdout",
     "output_type": "stream",
     "text": [
      "Epoch [231/300] | D Loss:   1.1948 | G Loss:   1.0117 | D Acc:  0.746 | LR_G: 0.01000 | LR_D: 0.00001\n",
      "         🔄 Adjusting balance...\n"
     ]
    },
    {
     "name": "stdout",
     "output_type": "stream",
     "text": [
      "Epoch [241/300] | D Loss:   1.1414 | G Loss:   1.1636 | D Acc:  0.803 | LR_G: 0.01000 | LR_D: 0.00001\n",
      "         ⚠️  Discriminator overpowering generator\n"
     ]
    },
    {
     "name": "stdout",
     "output_type": "stream",
     "text": [
      "Epoch [251/300] | D Loss:   1.1764 | G Loss:   1.1395 | D Acc:  0.764 | LR_G: 0.01000 | LR_D: 0.00001\n",
      "         🔄 Adjusting balance...\n"
     ]
    },
    {
     "name": "stdout",
     "output_type": "stream",
     "text": [
      "Epoch [261/300] | D Loss:   1.1411 | G Loss:   1.1415 | D Acc:  0.789 | LR_G: 0.01000 | LR_D: 0.00001\n",
      "         🔄 Adjusting balance...\n"
     ]
    },
    {
     "name": "stdout",
     "output_type": "stream",
     "text": [
      "Epoch [271/300] | D Loss:   1.4541 | G Loss:   1.1259 | D Acc:  0.793 | LR_G: 0.01000 | LR_D: 0.00001\n",
      "         🔄 Adjusting balance...\n"
     ]
    },
    {
     "name": "stdout",
     "output_type": "stream",
     "text": [
      "Epoch [281/300] | D Loss:   1.0795 | G Loss:   1.2494 | D Acc:  0.826 | LR_G: 0.01000 | LR_D: 0.00001\n",
      "         ⚠️  Discriminator overpowering generator\n"
     ]
    },
    {
     "name": "stdout",
     "output_type": "stream",
     "text": [
      "Epoch [291/300] | D Loss:   1.0890 | G Loss:   1.1566 | D Acc:  0.805 | LR_G: 0.01000 | LR_D: 0.00001\n",
      "         ⚠️  Discriminator overpowering generator\n"
     ]
    },
    {
     "name": "stdout",
     "output_type": "stream",
     "text": [
      "Epoch [300/300] | D Loss:   1.1085 | G Loss:   1.1471 | D Acc:  0.805 | LR_G: 0.01000 | LR_D: 0.00001\n",
      "         ⚠️  Discriminator overpowering generator\n",
      "============================================================\n",
      "Training completed!\n"
     ]
    },
    {
     "data": {
      "image/png": "[encoded data removed]",
      "text/plain": [
       "<Figure size 1800x500 with 3 Axes>"
      ]
     },
     "metadata": {},
     "output_type": "display_data"
    },
    {
     "name": "stdout",
     "output_type": "stream",
     "text": [
      "Generating synthetic samples...\n"
     ]
    },
    {
     "name": "stdout",
     "output_type": "stream",
     "text": [
      "Generated data shape: (552, 4500, 14)\n",
      "Generated data range: [-3.1460, 3.1375]\n",
      "Original data range: [-5.7248, 7.6610]\n",
      "Combined normal data shape: (1104, 4500, 14)\n"
     ]
    }
   ],
   "source": [
    "# Train with balanced parameters\n",
    "print(\"Training Balanced Vanilla GAN...\")\n",
    "generator, discriminator, d_history, g_history, d_acc_history, data_stats = train_vanilla_gan(\n",
    "    X_train_normal,\n",
    "    device,\n",
    "    n_epochs=300,\n",
    "    batch_size=64,\n",
    "    lr_g=0.01,  # Reduced generator LR\n",
    "    lr_d=0.00001   # Much lower discriminator LR  \n",
    ")\n",
    "\n",
    "# Plot training curves\n",
    "plot_vanilla_training_curves(d_history, g_history, d_acc_history)\n",
    "\n",
    "# Generate samples\n",
    "print(\"Generating synthetic samples...\")\n",
    "num_samples = len(X_train_normal)\n",
    "generated_data = generate_vanilla_samples(\n",
    "    generator,\n",
    "    num_samples,\n",
    "    latent_dim=128,\n",
    "    device=device,\n",
    "    data_stats=data_stats,\n",
    "    batch_size=32\n",
    ")\n",
    "\n",
    "print(f\"Generated data shape: {generated_data.shape}\")\n",
    "print(f\"Generated data range: [{generated_data.min():.4f}, {generated_data.max():.4f}]\")\n",
    "print(f\"Original data range: [{normal_data.min():.4f}, {normal_data.max():.4f}]\")\n",
    "\n",
    "normal_combine = np.concatenate((X_train_normal, generated_data), axis=0)\n",
    "print(f\"Combined normal data shape: {normal_combine.shape}\")\n"
   ]
  },
  {
   "cell_type": "markdown",
   "id": "e061561c",
   "metadata": {},
   "source": [
    "# FID Score"
   ]
  },
  {
   "cell_type": "code",
   "execution_count": null,
   "id": "81dfbfe2",
   "metadata": {
    "execution": {
     "iopub.execute_input": "2025-07-13T06:35:31.349306Z",
     "iopub.status.busy": "2025-07-13T06:35:31.348847Z",
     "iopub.status.idle": "2025-07-13T07:08:35.573421Z",
     "shell.execute_reply": "2025-07-13T07:08:35.572595Z"
    }
   },
   "outputs": [
    {
     "name": "stdout",
     "output_type": "stream",
     "text": [
      "Extracting features from all samples...\n"
     ]
    },
    {
     "name": "stderr",
     "output_type": "stream",
     "text": [
      "/home/maddie/SmartIoT-2025/.venv/lib/python3.8/site-packages/torchvision/models/_utils.py:208: UserWarning: The parameter 'pretrained' is deprecated since 0.13 and may be removed in the future, please use 'weights' instead.\n",
      "  warnings.warn(\n",
      "/home/maddie/SmartIoT-2025/.venv/lib/python3.8/site-packages/torchvision/models/_utils.py:223: UserWarning: Arguments other than a weight enum or `None` for 'weights' are deprecated since 0.13 and may be removed in the future. The current behavior is equivalent to passing `weights=VGG16_Weights.IMAGENET1K_V1`. You can also use `weights=VGG16_Weights.DEFAULT` to get the most up-to-date weights.\n",
      "  warnings.warn(msg)\n"
     ]
    },
    {
     "name": "stdout",
     "output_type": "stream",
     "text": [
      "\n",
      "Starting 5-fold cross-validation...\n",
      "============================================================\n",
      "\n",
      "Fold 1/5\n",
      "------------------------------\n",
      "Train normal samples: 110\n",
      "Test samples: 35 (28 normal, 7 anomaly)\n"
     ]
    },
    {
     "name": "stdout",
     "output_type": "stream",
     "text": [
      "  Epoch 1/20, Loss: 0.249298\n"
     ]
    },
    {
     "name": "stdout",
     "output_type": "stream",
     "text": [
      "  Epoch 6/20, Loss: 0.076241\n"
     ]
    },
    {
     "name": "stdout",
     "output_type": "stream",
     "text": [
      "  Epoch 11/20, Loss: 0.036832\n"
     ]
    },
    {
     "name": "stdout",
     "output_type": "stream",
     "text": [
      "  Epoch 16/20, Loss: 0.035917\n"
     ]
    },
    {
     "name": "stdout",
     "output_type": "stream",
     "text": [
      "  Epoch 20/20, Loss: 0.035651\n"
     ]
    },
    {
     "name": "stdout",
     "output_type": "stream",
     "text": [
      "Results: Acc=0.9429, Prec=0.7778, Rec=1.0000, F1=0.8750\n",
      "Optimal threshold: 0.036887\n",
      "\n",
      "Fold 2/5\n",
      "------------------------------\n",
      "Train normal samples: 110\n",
      "Test samples: 35 (28 normal, 7 anomaly)\n"
     ]
    },
    {
     "name": "stdout",
     "output_type": "stream",
     "text": [
      "  Epoch 1/20, Loss: 0.249657\n"
     ]
    },
    {
     "name": "stdout",
     "output_type": "stream",
     "text": [
      "  Epoch 6/20, Loss: 0.073684\n"
     ]
    },
    {
     "name": "stdout",
     "output_type": "stream",
     "text": [
      "  Epoch 11/20, Loss: 0.036731\n"
     ]
    },
    {
     "name": "stdout",
     "output_type": "stream",
     "text": [
      "  Epoch 16/20, Loss: 0.035895\n"
     ]
    },
    {
     "name": "stdout",
     "output_type": "stream",
     "text": [
      "  Epoch 20/20, Loss: 0.035448\n"
     ]
    },
    {
     "name": "stdout",
     "output_type": "stream",
     "text": [
      "Results: Acc=0.6000, Prec=0.3158, Rec=0.8571, F1=0.4615\n",
      "Optimal threshold: 0.034263\n",
      "\n",
      "Fold 3/5\n",
      "------------------------------\n",
      "Train normal samples: 110\n",
      "Test samples: 35 (28 normal, 7 anomaly)\n"
     ]
    },
    {
     "name": "stdout",
     "output_type": "stream",
     "text": [
      "  Epoch 1/20, Loss: 0.250008\n"
     ]
    },
    {
     "name": "stdout",
     "output_type": "stream",
     "text": [
      "  Epoch 6/20, Loss: 0.079995\n"
     ]
    },
    {
     "name": "stdout",
     "output_type": "stream",
     "text": [
      "  Epoch 11/20, Loss: 0.036939\n"
     ]
    },
    {
     "name": "stdout",
     "output_type": "stream",
     "text": [
      "  Epoch 16/20, Loss: 0.035613\n"
     ]
    },
    {
     "name": "stdout",
     "output_type": "stream",
     "text": [
      "  Epoch 20/20, Loss: 0.031529\n"
     ]
    },
    {
     "name": "stdout",
     "output_type": "stream",
     "text": [
      "Results: Acc=0.9429, Prec=1.0000, Rec=0.7143, F1=0.8333\n",
      "Optimal threshold: 0.033947\n",
      "\n",
      "Fold 4/5\n",
      "------------------------------\n",
      "Train normal samples: 111\n",
      "Test samples: 35 (27 normal, 8 anomaly)\n"
     ]
    },
    {
     "name": "stdout",
     "output_type": "stream",
     "text": [
      "  Epoch 1/20, Loss: 0.249219\n"
     ]
    },
    {
     "name": "stdout",
     "output_type": "stream",
     "text": [
      "  Epoch 6/20, Loss: 0.075524\n"
     ]
    },
    {
     "name": "stdout",
     "output_type": "stream",
     "text": [
      "  Epoch 11/20, Loss: 0.036981\n"
     ]
    },
    {
     "name": "stdout",
     "output_type": "stream",
     "text": [
      "  Epoch 16/20, Loss: 0.035924\n"
     ]
    },
    {
     "name": "stdout",
     "output_type": "stream",
     "text": [
      "  Epoch 20/20, Loss: 0.035401\n"
     ]
    },
    {
     "name": "stdout",
     "output_type": "stream",
     "text": [
      "Results: Acc=0.9143, Prec=0.8571, Rec=0.7500, F1=0.8000\n",
      "Optimal threshold: 0.038104\n",
      "\n",
      "Fold 5/5\n",
      "------------------------------\n",
      "Train normal samples: 111\n",
      "Test samples: 35 (27 normal, 8 anomaly)\n"
     ]
    },
    {
     "name": "stdout",
     "output_type": "stream",
     "text": [
      "  Epoch 1/20, Loss: 0.250118\n"
     ]
    },
    {
     "name": "stdout",
     "output_type": "stream",
     "text": [
      "  Epoch 6/20, Loss: 0.088621\n"
     ]
    },
    {
     "name": "stdout",
     "output_type": "stream",
     "text": [
      "  Epoch 11/20, Loss: 0.037634\n"
     ]
    },
    {
     "name": "stdout",
     "output_type": "stream",
     "text": [
      "  Epoch 16/20, Loss: 0.035963\n"
     ]
    },
    {
     "name": "stdout",
     "output_type": "stream",
     "text": [
      "  Epoch 20/20, Loss: 0.033802\n"
     ]
    },
    {
     "name": "stdout",
     "output_type": "stream",
     "text": [
      "Results: Acc=0.8000, Prec=0.5714, Rec=0.5000, F1=0.5333\n",
      "Optimal threshold: 0.035474\n",
      "\n",
      "================================================================================\n",
      "CROSS-VALIDATION RESULTS SUMMARY\n",
      "================================================================================\n",
      "\n",
      "FOLD-BY-FOLD RESULTS:\n",
      "--------------------------------------------------------------------------------\n",
      "Fold   Accuracy   Precision   Recall   F1-Score  Threshold   \n",
      "--------------------------------------------------------------------------------\n",
      "1      0.9429     0.7778      1.0000   0.8750    0.036887    \n",
      "2      0.6000     0.3158      0.8571   0.4615    0.034263    \n",
      "3      0.9429     1.0000      0.7143   0.8333    0.033947    \n",
      "4      0.9143     0.8571      0.7500   0.8000    0.038104    \n",
      "5      0.8000     0.5714      0.5000   0.5333    0.035474    \n",
      "\n",
      "STATISTICAL SUMMARY:\n",
      "--------------------------------------------------------------------------------\n",
      "Metric       Mean     Std      Min      Max      Median  \n",
      "--------------------------------------------------------------------------------\n",
      "Accuracy     0.8400   0.1311   0.6000   0.9429   0.9143  \n",
      "Precision    0.7044   0.2387   0.3158   1.0000   0.7778  \n",
      "Recall       0.7643   0.1654   0.5000   1.0000   0.7500  \n",
      "F1           0.7006   0.1691   0.4615   0.8750   0.8000  \n",
      "\n",
      "OVERALL PERFORMANCE:\n",
      "  Mean F1-Score: 0.7006 ± 0.1691\n",
      "  F1-Score Range: [0.4615, 0.8750]\n",
      "  Mean Threshold: 0.035735 ± 0.001573\n"
     ]
    },
    {
     "data": {
      "text/plain": [
       "{'fold_results': [{'fold': 1,\n",
       "   'train_samples': 110,\n",
       "   'test_samples': 35,\n",
       "   'final_train_loss': 0.03565077539533377,\n",
       "   'optimal_threshold': 0.03688749439562812,\n",
       "   'accuracy': 0.9428571428571428,\n",
       "   'precision': 0.7777777777777778,\n",
       "   'recall': 1.0,\n",
       "   'f1': 0.8750000000000001},\n",
       "  {'fold': 2,\n",
       "   'train_samples': 110,\n",
       "   'test_samples': 35,\n",
       "   'final_train_loss': 0.035447544790804385,\n",
       "   'optimal_threshold': 0.03426315840521846,\n",
       "   'accuracy': 0.6,\n",
       "   'precision': 0.3157894736842105,\n",
       "   'recall': 0.8571428571428571,\n",
       "   'f1': 0.46153846153846156},\n",
       "  {'fold': 3,\n",
       "   'train_samples': 110,\n",
       "   'test_samples': 35,\n",
       "   'final_train_loss': 0.03152851685881615,\n",
       "   'optimal_threshold': 0.03394673510708592,\n",
       "   'accuracy': 0.9428571428571428,\n",
       "   'precision': 1.0,\n",
       "   'recall': 0.7142857142857143,\n",
       "   'f1': 0.8333333333333333},\n",
       "  {'fold': 4,\n",
       "   'train_samples': 111,\n",
       "   'test_samples': 35,\n",
       "   'final_train_loss': 0.03540057931095362,\n",
       "   'optimal_threshold': 0.03810399847876544,\n",
       "   'accuracy': 0.9142857142857143,\n",
       "   'precision': 0.8571428571428571,\n",
       "   'recall': 0.75,\n",
       "   'f1': 0.7999999999999999},\n",
       "  {'fold': 5,\n",
       "   'train_samples': 111,\n",
       "   'test_samples': 35,\n",
       "   'final_train_loss': 0.03380246441811323,\n",
       "   'optimal_threshold': 0.03547429598190568,\n",
       "   'accuracy': 0.8,\n",
       "   'precision': 0.5714285714285714,\n",
       "   'recall': 0.5,\n",
       "   'f1': 0.5333333333333333}],\n",
       " 'statistics': {'accuracy': {'mean': 0.8400000000000001,\n",
       "   'std': 0.1310553707563396,\n",
       "   'min': 0.6,\n",
       "   'max': 0.9428571428571428,\n",
       "   'median': 0.9142857142857143,\n",
       "   'values': array([0.94285714, 0.6       , 0.94285714, 0.91428571, 0.8       ])},\n",
       "  'precision': {'mean': 0.7044277360066834,\n",
       "   'std': 0.23866025090621995,\n",
       "   'min': 0.3157894736842105,\n",
       "   'max': 1.0,\n",
       "   'median': 0.7777777777777778,\n",
       "   'values': array([0.77777778, 0.31578947, 1.        , 0.85714286, 0.57142857])},\n",
       "  'recall': {'mean': 0.7642857142857143,\n",
       "   'std': 0.16536909861128893,\n",
       "   'min': 0.5,\n",
       "   'max': 1.0,\n",
       "   'median': 0.75,\n",
       "   'values': array([1.        , 0.85714286, 0.71428571, 0.75      , 0.5       ])},\n",
       "  'f1': {'mean': 0.7006410256410256,\n",
       "   'std': 0.1691404187718814,\n",
       "   'min': 0.46153846153846156,\n",
       "   'max': 0.8750000000000001,\n",
       "   'median': 0.7999999999999999,\n",
       "   'values': array([0.875     , 0.46153846, 0.83333333, 0.8       , 0.53333333])},\n",
       "  'optimal_threshold': {'mean': 0.03573513647372072,\n",
       "   'std': 0.0015730589705176595,\n",
       "   'min': 0.03394673510708592,\n",
       "   'max': 0.03810399847876544,\n",
       "   'median': 0.03547429598190568,\n",
       "   'values': array([0.03688749, 0.03426316, 0.03394674, 0.038104  , 0.0354743 ])},\n",
       "  'train_loss': {'mean': 0.03436597615480423,\n",
       "   'std': 0.001565862332859212,\n",
       "   'min': 0.03152851685881615,\n",
       "   'max': 0.03565077539533377,\n",
       "   'median': 0.03540057931095362,\n",
       "   'values': array([0.03565078, 0.03544754, 0.03152852, 0.03540058, 0.03380246])}},\n",
       " 'all_metrics': {'accuracy': [0.9428571428571428,\n",
       "   0.6,\n",
       "   0.9428571428571428,\n",
       "   0.9142857142857143,\n",
       "   0.8],\n",
       "  'precision': [0.7777777777777778,\n",
       "   0.3157894736842105,\n",
       "   1.0,\n",
       "   0.8571428571428571,\n",
       "   0.5714285714285714],\n",
       "  'recall': [1.0, 0.8571428571428571, 0.7142857142857143, 0.75, 0.5],\n",
       "  'f1': [0.8750000000000001,\n",
       "   0.46153846153846156,\n",
       "   0.8333333333333333,\n",
       "   0.7999999999999999,\n",
       "   0.5333333333333333],\n",
       "  'optimal_threshold': [0.03688749439562812,\n",
       "   0.03426315840521846,\n",
       "   0.03394673510708592,\n",
       "   0.03810399847876544,\n",
       "   0.03547429598190568],\n",
       "  'train_loss': [0.03565077539533377,\n",
       "   0.035447544790804385,\n",
       "   0.03152851685881615,\n",
       "   0.03540057931095362,\n",
       "   0.03380246441811323]}}"
      ]
     },
     "execution_count": 4,
     "metadata": {},
     "output_type": "execute_result"
    }
   ],
   "source": [
    "run_pipeline_with_cv(normal_combine, X_test_normal, X_test_faulty, \n",
    "                    device=device, batch_size=64, num_epochs=20, cv_folds=5)"
   ]
  }
 ],
 "metadata": {
  "kernelspec": {
   "display_name": ".venv",
   "language": "python",
   "name": "python3"
  },
  "language_info": {
   "codemirror_mode": {
    "name": "ipython",
    "version": 3
   },
   "file_extension": ".py",
   "mimetype": "text/x-python",
   "name": "python",
   "nbconvert_exporter": "python",
   "pygments_lexer": "ipython3",
   "version": "3.8.10"
  }
 },
 "nbformat": 4,
 "nbformat_minor": 5
}
