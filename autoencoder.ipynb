{
 "cells": [
  {
   "cell_type": "code",
   "execution_count": null,
   "id": "7aca19d5",
   "metadata": {},
   "outputs": [
    {
     "name": "stdout",
     "output_type": "stream",
     "text": [
      "cuda\n",
      "NVIDIA A100-PCIE-40GB\n",
      "(872, 4500, 14) (872,)\n"
     ]
    }
   ],
   "source": [
    "import torch\n",
    "import torchaudio\n",
    "import torchvision.transforms as transforms\n",
    "from torchvision.models import vgg16\n",
    "from torch.utils.data import DataLoader, TensorDataset\n",
    "import torch.nn as nn\n",
    "import torch.optim as optim\n",
    "from PIL import Image\n",
    "import numpy as np\n",
    "import matplotlib.pyplot as plt\n",
    "from sklearn.model_selection import train_test_split\n",
    "from sklearn.preprocessing import MinMaxScaler\n",
    "from sklearn.model_selection import  StratifiedKFold\n",
    "from sklearn.metrics import f1_score, precision_score, recall_score, accuracy_score, confusion_matrix, auc, classification_report, roc_auc_score\n",
    "\n",
    "\n",
    "device = torch.device(\"cuda\" if torch.cuda.is_available() else \"cpu\")\n",
    "print(device)\n",
    "print(torch.cuda.get_device_name(0) if torch.cuda.is_available() else \"No GPU available\")\n",
    "\n",
    "data = np.load(\"hvcm/RFQ.npy\", allow_pickle=True)\n",
    "label = np.load(\"hvcm/RFQ_labels.npy\", allow_pickle=True)\n",
    "label = label[:, 1]  # Assuming the second column is the label\n",
    "label = (label == \"Fault\").astype(int)  # Convert to binary labels\n",
    "print(data.shape, label.shape)\n",
    "\n",
    "scaled_data = MinMaxScaler().fit_transform(data.reshape(-1, data.shape[-1])).reshape(data.shape)\n",
    "\n",
    "normal_indices = np.where(label == 0)\n",
    "anomalous_indices = np.where(label == 1)\n"
   ]
  },
  {
   "cell_type": "markdown",
   "id": "21901a15",
   "metadata": {},
   "source": [
    "# Processing: Mel Spec > Resizing > Feature Extraction"
   ]
  },
  {
   "cell_type": "code",
   "execution_count": null,
   "id": "01061dc1",
   "metadata": {},
   "outputs": [
    {
     "name": "stderr",
     "output_type": "stream",
     "text": [
      "/home/chris/GANs/.venv/lib/python3.8/site-packages/torchaudio/functional/functional.py:584: UserWarning: At least one mel filterbank has all zero values. The value for `n_mels` (128) may be set too high. Or, the value for `n_freqs` (201) may be set too low.\n",
      "  warnings.warn(\n",
      "/home/chris/GANs/.venv/lib/python3.8/site-packages/torchvision/models/_utils.py:208: UserWarning: The parameter 'pretrained' is deprecated since 0.13 and may be removed in the future, please use 'weights' instead.\n",
      "  warnings.warn(\n",
      "/home/chris/GANs/.venv/lib/python3.8/site-packages/torchvision/models/_utils.py:223: UserWarning: Arguments other than a weight enum or `None` for 'weights' are deprecated since 0.13 and may be removed in the future. The current behavior is equivalent to passing `weights=VGG16_Weights.IMAGENET1K_V1`. You can also use `weights=VGG16_Weights.DEFAULT` to get the most up-to-date weights.\n",
      "  warnings.warn(msg)\n"
     ]
    },
    {
     "name": "stdout",
     "output_type": "stream",
     "text": [
      "Features shape: (872, 14, 4096)\n"
     ]
    }
   ],
   "source": [
    "# Resize and convert to 3-channel image\n",
    "def resize_spectrogram(spectrogram):\n",
    "    spectrogram = (spectrogram - spectrogram.min()) / (spectrogram.max() - spectrogram.min() + 1e-6)\n",
    "    spectrogram = np.uint8(spectrogram.cpu().numpy() * 255)\n",
    "    spectrogram = np.stack([spectrogram] * 3, axis=-1)\n",
    "    image = Image.fromarray(spectrogram)\n",
    "    image = transforms.Resize((224, 224))(image)\n",
    "    return transforms.ToTensor()(image)\n",
    "\n",
    "# Process dataset\n",
    "def process_dataset(data):\n",
    "    num_samples, _, num_channels = data.shape\n",
    "    features = np.zeros((num_samples, num_channels, 4096))\n",
    "    mel_transform = torchaudio.transforms.MelSpectrogram(sample_rate=2500000, n_mels=128).to(device)\n",
    "    model = vgg16(pretrained=True).to(device)\n",
    "    model.classifier = model.classifier[:-3]\n",
    "    model.eval()ß\n",
    "\n",
    "    for i in range(num_samples):\n",
    "        for j in range(num_channels):\n",
    "            ts = torch.tensor(data[i, :, j], dtype=torch.float32).to(device)\n",
    "            mel = mel_transform(ts)\n",
    "            img = resize_spectrogram(mel)\n",
    "            with torch.no_grad():\n",
    "                feat = model(img.unsqueeze(0).to(device))\n",
    "            features[i, j, :] = feat.squeeze().cpu().numpy()\n",
    "    return features\n",
    "\n",
    "features = process_dataset(data)\n",
    "print(\"Features shape:\", features.shape)"
   ]
  },
  {
   "cell_type": "markdown",
   "id": "411fa7c4",
   "metadata": {},
   "source": [
    "# Train-Test split"
   ]
  },
  {
   "cell_type": "code",
   "execution_count": 3,
   "id": "324c573f",
   "metadata": {},
   "outputs": [],
   "source": [
    "train_data, test_data, train_labels, test_labels = train_test_split(features, label, test_size=0.2, random_state=42)\n"
   ]
  },
  {
   "cell_type": "markdown",
   "id": "19f39ba8",
   "metadata": {},
   "source": [
    "# AE Training"
   ]
  },
  {
   "cell_type": "code",
   "execution_count": null,
   "id": "81dfbfe2",
   "metadata": {},
   "outputs": [
    {
     "name": "stdout",
     "output_type": "stream",
     "text": [
      "Epoch 1/50, Loss: 0.890475\n",
      "Epoch 2/50, Loss: 0.666888\n",
      "Epoch 3/50, Loss: 0.666663\n",
      "Epoch 4/50, Loss: 0.666547\n",
      "Epoch 5/50, Loss: 0.666442\n",
      "Epoch 6/50, Loss: 0.666426\n",
      "Epoch 7/50, Loss: 0.666324\n",
      "Epoch 8/50, Loss: 0.666198\n",
      "Epoch 9/50, Loss: 0.666122\n",
      "Epoch 10/50, Loss: 0.665849\n",
      "Epoch 11/50, Loss: 0.665637\n",
      "Epoch 12/50, Loss: 0.665485\n",
      "Epoch 13/50, Loss: 0.665228\n",
      "Epoch 14/50, Loss: 0.664869\n",
      "Epoch 15/50, Loss: 0.664558\n",
      "Epoch 16/50, Loss: 0.664281\n",
      "Epoch 17/50, Loss: 0.664170\n",
      "Epoch 18/50, Loss: 0.664059\n",
      "Epoch 19/50, Loss: 0.663989\n",
      "Epoch 20/50, Loss: 0.663853\n",
      "Epoch 21/50, Loss: 0.663850\n",
      "Epoch 22/50, Loss: 0.663629\n",
      "Epoch 23/50, Loss: 0.663528\n",
      "Epoch 24/50, Loss: 0.663220\n",
      "Epoch 25/50, Loss: 0.662756\n",
      "Epoch 26/50, Loss: 0.661299\n",
      "Epoch 27/50, Loss: 0.660140\n",
      "Epoch 28/50, Loss: 0.659939\n",
      "Epoch 29/50, Loss: 0.659856\n",
      "Epoch 30/50, Loss: 0.659724\n",
      "Epoch 31/50, Loss: 0.659675\n",
      "Epoch 32/50, Loss: 0.658853\n",
      "Epoch 33/50, Loss: 0.658262\n",
      "Epoch 34/50, Loss: 0.657997\n",
      "Epoch 35/50, Loss: 0.657665\n",
      "Epoch 36/50, Loss: 0.657700\n",
      "Epoch 37/50, Loss: 0.657519\n",
      "Epoch 38/50, Loss: 0.657461\n",
      "Epoch 39/50, Loss: 0.657392\n",
      "Epoch 40/50, Loss: 0.657395\n",
      "Epoch 41/50, Loss: 0.657270\n",
      "Epoch 42/50, Loss: 0.657279\n",
      "Epoch 43/50, Loss: 0.657084\n",
      "Epoch 44/50, Loss: 0.657014\n",
      "Epoch 45/50, Loss: 0.656897\n",
      "Epoch 46/50, Loss: 0.656759\n",
      "Epoch 47/50, Loss: 0.656732\n",
      "Epoch 48/50, Loss: 0.656636\n",
      "Epoch 49/50, Loss: 0.656571\n",
      "Epoch 50/50, Loss: 0.656591\n"
     ]
    }
   ],
   "source": [
    "# Autoencoder model\n",
    "class Autoencoder(nn.Module):\n",
    "    def __init__(self, input_size=4096):\n",
    "        super().__init__()\n",
    "        self.encoder = nn.Sequential(\n",
    "            nn.Linear(input_size, 100), nn.ReLU(),\n",
    "            nn.Linear(100, 50), nn.ReLU(),\n",
    "            nn.Linear(50, 25), nn.ReLU(),\n",
    "            nn.Linear(25, 12), nn.ReLU(),\n",
    "            nn.Linear(12, 6), nn.ReLU()\n",
    "        )\n",
    "        self.decoder = nn.Sequential(\n",
    "            nn.Linear(6, 12), nn.ReLU(),\n",
    "            nn.Linear(12, 25), nn.ReLU(),\n",
    "            nn.Linear(25, 50), nn.ReLU(),\n",
    "            nn.Linear(50, 100), nn.ReLU(),\n",
    "            nn.Linear(100, input_size), nn.Sigmoid()\n",
    "        )\n",
    "\n",
    "    def forward(self, x):\n",
    "        return self.decoder(self.encoder(x))\n",
    "\n",
    "\n",
    "\n",
    "# Train autoencoder\n",
    "def train_autoencoder(features, epochs=20, batch_size=256):\n",
    "    x = torch.tensor(features.reshape(-1, 4096), dtype=torch.float32).to(device)\n",
    "    loader = DataLoader(TensorDataset(x), batch_size=batch_size, shuffle=True)\n",
    "    model = Autoencoder().to(device)\n",
    "    optimizer = optim.Adam(model.parameters(), lr=1e-3)\n",
    "    criterion = nn.MSELoss()\n",
    "\n",
    "    for epoch in range(epochs):\n",
    "        total_loss = 0\n",
    "        for batch in loader:\n",
    "            inputs = batch[0]\n",
    "            outputs = model(inputs)\n",
    "            loss = criterion(outputs, inputs)\n",
    "            optimizer.zero_grad()\n",
    "            loss.backward()\n",
    "            optimizer.step()\n",
    "            total_loss += loss.item()\n",
    "        print(f\"Epoch {epoch+1}/{epochs}, Loss: {total_loss / len(loader):.6f}\")\n",
    "    return model\n",
    "\n",
    "\n",
    "def print_eval(predictions, labels):\n",
    "  print(\"Accuracy = {}\".format(accuracy_score(labels, predictions)))\n",
    "  print(\"Precision = {}\".format(precision_score(labels, predictions)))\n",
    "  print(\"Recall = {}\".format(recall_score(labels, predictions)))\n",
    "  print(\"F1 = {}\".format(f1_score(labels, predictions)))\n",
    "  print(confusion_matrix(labels, predictions))\n",
    "\n",
    "# Plot reconstruction error histogram\n",
    "def plot_reconstruction_error(model, features, percentile=95):\n",
    "    x = torch.tensor(features.reshape(-1, 4096), dtype=torch.float32).to(device)\n",
    "    loader = DataLoader(TensorDataset(x), batch_size=64)\n",
    "    errors = []\n",
    "    criterion = nn.MSELoss(reduction='none')\n",
    "\n",
    "    with torch.no_grad():\n",
    "        for batch in loader:\n",
    "            inputs = batch[0]\n",
    "            outputs = model(inputs)\n",
    "            batch_errors = criterion(outputs, inputs).mean(dim=1)\n",
    "            errors.extend(batch_errors.cpu().numpy())\n",
    "\n",
    "    threshold = np.percentile(errors, percentile)\n",
    "    anomalies = np.sum(np.array(errors) > threshold)\n",
    "\n",
    "    plt.hist(errors, bins=50, alpha=0.75)\n",
    "    plt.axvline(threshold, color='r', linestyle='--', label=f'Threshold ({percentile}%)')\n",
    "    plt.xlabel('Reconstruction Error')\n",
    "    plt.ylabel('Frequency')\n",
    "    plt.title('Reconstruction Error Histogram')\n",
    "    plt.legend()\n",
    "    plt.grid(True)\n",
    "    plt.show()\n",
    "\n",
    "    print(f\"Anomaly threshold: {threshold:.6f}\")\n",
    "    print(f\"Detected anomalies: {anomalies}\")\n",
    "\n",
    "model = train_autoencoder(features[normal_indices], epochs=50, batch_size=128)\n"
   ]
  },
  {
   "cell_type": "markdown",
   "id": "f5844925",
   "metadata": {},
   "source": [
    "# Plot"
   ]
  },
  {
   "cell_type": "code",
   "execution_count": 90,
   "id": "61c5760b",
   "metadata": {},
   "outputs": [
    {
     "data": {
      "image/png": "[encoded data removed]",
      "text/plain": [
       "<Figure size 640x480 with 1 Axes>"
      ]
     },
     "metadata": {},
     "output_type": "display_data"
    },
    {
     "name": "stdout",
     "output_type": "stream",
     "text": [
      "Anomaly threshold: 0.710655\n",
      "Detected anomalies: 245\n"
     ]
    }
   ],
   "source": [
    "percentile = 90\n",
    "\n",
    "plot_reconstruction_error(model, test_data, percentile=percentile)\n"
   ]
  },
  {
   "cell_type": "markdown",
   "id": "a8009235",
   "metadata": {},
   "source": [
    "# Evaluation"
   ]
  },
  {
   "cell_type": "code",
   "execution_count": null,
   "id": "abd42930",
   "metadata": {},
   "outputs": [
    {
     "name": "stdout",
     "output_type": "stream",
     "text": [
      "Accuracy = 0.8742857142857143\n",
      "Precision = 0.8888888888888888\n",
      "Recall = 0.4444444444444444\n",
      "F1 = 0.5925925925925926\n",
      "[[137   2]\n",
      " [ 20  16]]\n"
     ]
    }
   ],
   "source": [
    "\n",
    "# Compute reconstruction errors\n",
    "x = model(torch.tensor(test_data.reshape(-1, 4096), dtype=torch.float32).to(device)).cpu().detach().numpy()\n",
    "errors = np.mean((x - test_data.reshape(-1, 4096)) ** 2, axis=1)\n",
    "\n",
    "# Reshape to (175, 14)\n",
    "errors = errors.reshape(test_data.shape[0], test_data.shape[1])\n",
    "\n",
    "# Aggregate per sample (e.g., mean across channels)\n",
    "sample_errors = np.mean(errors, axis=1)\n",
    "\n",
    "# Thresholding\n",
    "threshold = np.percentile(sample_errors, percentile)\n",
    "predictions = (sample_errors > threshold).astype(int)\n",
    "\n",
    "# Now you can compare with test_labels\n",
    "print_eval(predictions, test_labels)\n"
   ]
  },
  {
   "cell_type": "code",
   "execution_count": null,
   "id": "29e5a291",
   "metadata": {},
   "outputs": [],
   "source": []
  }
 ],
 "metadata": {
  "kernelspec": {
   "display_name": ".venv",
   "language": "python",
   "name": "python3"
  },
  "language_info": {
   "codemirror_mode": {
    "name": "ipython",
    "version": 3
   },
   "file_extension": ".py",
   "mimetype": "text/x-python",
   "name": "python",
   "nbconvert_exporter": "python",
   "pygments_lexer": "ipython3",
   "version": "3.8.10"
  }
 },
 "nbformat": 4,
 "nbformat_minor": 5
}
